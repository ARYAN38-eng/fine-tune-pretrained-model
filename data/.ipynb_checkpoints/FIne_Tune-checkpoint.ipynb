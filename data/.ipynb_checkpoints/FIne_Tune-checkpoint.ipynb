{
 "cells": [
  {
   "cell_type": "markdown",
   "id": "a5280465-8f89-462a-bd4b-d1634903d593",
   "metadata": {
    "id": "a5280465-8f89-462a-bd4b-d1634903d593"
   },
   "source": [
    "# Fine-Tune a Model: Description: Load a pre-trained LSTM-based NMT model and use it to translate asentence from one language to another. Description: GUI is not necessary. It will be evaluated on the basis of accuracy score."
   ]
  },
  {
   "cell_type": "code",
   "execution_count": 1,
   "id": "3d17e9ec-539f-49b9-9661-6b26582c58e2",
   "metadata": {
    "id": "3d17e9ec-539f-49b9-9661-6b26582c58e2"
   },
   "outputs": [
    {
     "name": "stderr",
     "output_type": "stream",
     "text": [
      "[nltk_data] Downloading package punkt to C:\\Users\\Aryan\n",
      "[nltk_data]     raina\\AppData\\Roaming\\nltk_data...\n",
      "[nltk_data]   Package punkt is already up-to-date!\n"
     ]
    }
   ],
   "source": [
    "import pandas as pd\n",
    "import nltk\n",
    "nltk.download('punkt')\n",
    "import numpy as np\n",
    "import string\n",
    "from tensorflow.keras.preprocessing.text import Tokenizer\n",
    "from tensorflow.keras.preprocessing.sequence import pad_sequences"
   ]
  },
  {
   "cell_type": "code",
   "execution_count": 2,
   "id": "aa219b93-496a-4f7b-8468-a5a8ce3039f7",
   "metadata": {
    "id": "aa219b93-496a-4f7b-8468-a5a8ce3039f7"
   },
   "outputs": [],
   "source": [
    "def load_data(path):\n",
    "    input_file = path\n",
    "    with open(input_file, \"r\") as f:\n",
    "        data = f.read()\n",
    "    return data.split('\\n')\n",
    "\n",
    "english_sentences = load_data('english.txt')\n",
    "french_sentences = load_data('french.txt')"
   ]
  },
  {
   "cell_type": "code",
   "execution_count": 3,
   "id": "be4f2ec1-9cd1-49cf-833c-b213bee574ff",
   "metadata": {
    "id": "be4f2ec1-9cd1-49cf-833c-b213bee574ff"
   },
   "outputs": [],
   "source": [
    "# Example data (replace with your actual data)\n",
    "source_texts = english_sentences\n",
    "target_texts = french_sentences"
   ]
  },
  {
   "cell_type": "code",
   "execution_count": 4,
   "id": "3c7abef7-8caf-4373-b08d-f6149794c77f",
   "metadata": {
    "id": "3c7abef7-8caf-4373-b08d-f6149794c77f"
   },
   "outputs": [],
   "source": [
    "def clean_text(text):\n",
    "    if isinstance(text, float) or isinstance(text, int):\n",
    "        return ''\n",
    "    translator = str.maketrans('', '', string.punctuation)\n",
    "    return text.translate(translator).lower()"
   ]
  },
  {
   "cell_type": "code",
   "execution_count": 5,
   "id": "42f3e462-a227-40b6-895b-289c201644fd",
   "metadata": {
    "id": "42f3e462-a227-40b6-895b-289c201644fd"
   },
   "outputs": [],
   "source": [
    "# Tokenize the source language\n",
    "def tokenize(x):\n",
    "    tokenizer = Tokenizer()\n",
    "    tokenizer.fit_on_texts(x)\n",
    "    sequences = tokenizer.texts_to_sequences(x)\n",
    "    return sequences, tokenizer"
   ]
  },
  {
   "cell_type": "code",
   "execution_count": 6,
   "id": "f0327c01-41e7-45f9-aa1b-1a66b2871ab0",
   "metadata": {
    "id": "f0327c01-41e7-45f9-aa1b-1a66b2871ab0"
   },
   "outputs": [],
   "source": [
    "def pad(x, length=None):\n",
    "    if length is None:\n",
    "        # Calculate the maximum length of sequences if not provided\n",
    "        length = max([len(sentence) for sentence in x])\n",
    "    # Pad sequences to the specified length\n",
    "    return pad_sequences(x, maxlen=length, padding='post')"
   ]
  },
  {
   "cell_type": "code",
   "execution_count": 7,
   "id": "5a7ac0ba-b139-414a-870a-2bb169b0d4cf",
   "metadata": {
    "id": "5a7ac0ba-b139-414a-870a-2bb169b0d4cf"
   },
   "outputs": [],
   "source": [
    "def preprocess(x,y):\n",
    "    x=[clean_text(str(text)) for text in x]\n",
    "    y=[clean_text(str(text)) for text in y]\n",
    "    preprocess_x, x_tk=tokenize(x)\n",
    "    preprocess_y, y_tk=tokenize(y)\n",
    "    preprocess_x=pad(preprocess_x)\n",
    "    preprocess_y=pad(preprocess_y)\n",
    "    preprocess_y = preprocess_y.reshape(*preprocess_y.shape, 1)\n",
    "\n",
    "    return preprocess_x, preprocess_y, x_tk, y_tk\n",
    "\n",
    "preproc_english_sentences, preproc_french_sentences, english_tokenizer, french_tokenizer = preprocess(source_texts,target_texts)"
   ]
  },
  {
   "cell_type": "code",
   "execution_count": 8,
   "id": "73ad9162-119c-49d3-a91c-2772aef4ddf7",
   "metadata": {
    "id": "73ad9162-119c-49d3-a91c-2772aef4ddf7"
   },
   "outputs": [
    {
     "name": "stdout",
     "output_type": "stream",
     "text": [
      "Data Preprocessed\n",
      "Max English sentence length: 15\n",
      "Max French sentence length: 21\n",
      "English vocabulary size: 199\n",
      "French vocabulary size: 344\n"
     ]
    }
   ],
   "source": [
    "max_english_sequence_length = preproc_english_sentences.shape[1]\n",
    "max_french_sequence_length = preproc_french_sentences.shape[1]\n",
    "english_vocab_size = len(english_tokenizer.word_index)\n",
    "french_vocab_size = len(french_tokenizer.word_index)\n",
    "\n",
    "print('Data Preprocessed')\n",
    "print(\"Max English sentence length:\", max_english_sequence_length)\n",
    "print(\"Max French sentence length:\", max_french_sequence_length)\n",
    "print(\"English vocabulary size:\", english_vocab_size)\n",
    "print(\"French vocabulary size:\", french_vocab_size)"
   ]
  },
  {
   "cell_type": "code",
   "execution_count": 9,
   "id": "ed6af9e0-319c-41a3-aa1f-0b483c9cd60b",
   "metadata": {},
   "outputs": [
    {
     "name": "stdout",
     "output_type": "stream",
     "text": [
      "(137861, 15)\n",
      "(137861, 21, 1)\n"
     ]
    }
   ],
   "source": [
    "print(preproc_english_sentences.shape)\n",
    "print(preproc_french_sentences.shape)"
   ]
  },
  {
   "cell_type": "code",
   "execution_count": 10,
   "id": "2c7e4740-6d69-42ce-8fa4-3d2ff38be0ee",
   "metadata": {},
   "outputs": [],
   "source": [
    "from tensorflow.keras.models import Model,Sequential\n",
    "from tensorflow.keras.layers import Input, LSTM, Embedding, Dense, Bidirectional,TimeDistributed,Dropout,GRU\n",
    "from tensorflow.keras.optimizers import Adam\n",
    "from tensorflow.keras.losses import sparse_categorical_crossentropy\n",
    "def bidirectional_embed_model(input_shape, output_sequence_length, english_vocab_size, french_vocab_size):\n",
    "\n",
    "    # Build the layers\n",
    "    model = Sequential()\n",
    "    model.add(Embedding(english_vocab_size+1, 256, input_length=input_shape[1], input_shape=input_shape[1:]))\n",
    "    model.add(Bidirectional(LSTM(256, return_sequences=True)))\n",
    "    model.add(TimeDistributed(Dense(1024, activation='relu')))\n",
    "    model.add(Dropout(0.5))\n",
    "    model.add(TimeDistributed(Dense(french_vocab_size+1, activation='softmax')))\n",
    "\n",
    "    # Compile model\n",
    "    model.compile(loss = sparse_categorical_crossentropy,\n",
    "                  optimizer = Adam(0.005),\n",
    "                  metrics = ['accuracy'])\n",
    "\n",
    "    return model"
   ]
  },
  {
   "cell_type": "code",
   "execution_count": 11,
   "id": "861bc4ec-23c7-4fd5-941c-428b881f2229",
   "metadata": {},
   "outputs": [],
   "source": [
    "tmp_x = pad(preproc_english_sentences, max_french_sequence_length)"
   ]
  },
  {
   "cell_type": "code",
   "execution_count": 13,
   "id": "814145b3-8872-41bb-9816-99b13bb9701e",
   "metadata": {},
   "outputs": [
    {
     "data": {
      "text/plain": [
       "(137861, 21)"
      ]
     },
     "execution_count": 13,
     "metadata": {},
     "output_type": "execute_result"
    }
   ],
   "source": [
    "tmp_x.shape"
   ]
  },
  {
   "cell_type": "code",
   "execution_count": 14,
   "id": "8246ee2c-9e88-4b11-a70f-f60152324ef5",
   "metadata": {},
   "outputs": [],
   "source": [
    "tmp_x = tmp_x.reshape((-1, preproc_french_sentences.shape[-2]))"
   ]
  },
  {
   "cell_type": "code",
   "execution_count": 16,
   "id": "43cb385c-e541-444d-bddf-989045e5ba3e",
   "metadata": {},
   "outputs": [
    {
     "data": {
      "text/plain": [
       "(137861, 21)"
      ]
     },
     "execution_count": 16,
     "metadata": {},
     "output_type": "execute_result"
    }
   ],
   "source": [
    "tmp_x.shape"
   ]
  },
  {
   "cell_type": "code",
   "execution_count": 18,
   "id": "5525d0ac-1666-4de6-81ae-c67e70ac3716",
   "metadata": {},
   "outputs": [
    {
     "data": {
      "text/plain": [
       "(137861, 21, 1)"
      ]
     },
     "execution_count": 18,
     "metadata": {},
     "output_type": "execute_result"
    }
   ],
   "source": [
    "preproc_french_sentences.shape"
   ]
  },
  {
   "cell_type": "code",
   "execution_count": 19,
   "id": "fba026f5-75f9-4c08-8a68-841ad6a23b0c",
   "metadata": {
    "colab": {
     "base_uri": "https://localhost:8080/",
     "height": 430
    },
    "id": "fba026f5-75f9-4c08-8a68-841ad6a23b0c",
    "outputId": "3f1c6d0e-4022-4fc7-d480-8fc1b090c4d7"
   },
   "outputs": [
    {
     "name": "stderr",
     "output_type": "stream",
     "text": [
      "C:\\python312\\Lib\\site-packages\\keras\\src\\layers\\core\\embedding.py:86: UserWarning: Argument `input_length` is deprecated. Just remove it.\n",
      "  warnings.warn(\n",
      "C:\\python312\\Lib\\site-packages\\keras\\src\\layers\\core\\embedding.py:89: UserWarning: Do not pass an `input_shape`/`input_dim` argument to a layer. When using Sequential models, prefer using an `Input(shape)` object as the first layer in the model instead.\n",
      "  super().__init__(**kwargs)\n"
     ]
    },
    {
     "data": {
      "text/html": [
       "<pre style=\"white-space:pre;overflow-x:auto;line-height:normal;font-family:Menlo,'DejaVu Sans Mono',consolas,'Courier New',monospace\"><span style=\"font-weight: bold\">Model: \"sequential\"</span>\n",
       "</pre>\n"
      ],
      "text/plain": [
       "\u001b[1mModel: \"sequential\"\u001b[0m\n"
      ]
     },
     "metadata": {},
     "output_type": "display_data"
    },
    {
     "data": {
      "text/html": [
       "<pre style=\"white-space:pre;overflow-x:auto;line-height:normal;font-family:Menlo,'DejaVu Sans Mono',consolas,'Courier New',monospace\">┏━━━━━━━━━━━━━━━━━━━━━━━━━━━━━━━━━━━━━━┳━━━━━━━━━━━━━━━━━━━━━━━━━━━━━┳━━━━━━━━━━━━━━━━━┓\n",
       "┃<span style=\"font-weight: bold\"> Layer (type)                         </span>┃<span style=\"font-weight: bold\"> Output Shape                </span>┃<span style=\"font-weight: bold\">         Param # </span>┃\n",
       "┡━━━━━━━━━━━━━━━━━━━━━━━━━━━━━━━━━━━━━━╇━━━━━━━━━━━━━━━━━━━━━━━━━━━━━╇━━━━━━━━━━━━━━━━━┩\n",
       "│ embedding (<span style=\"color: #0087ff; text-decoration-color: #0087ff\">Embedding</span>)                │ (<span style=\"color: #00d7ff; text-decoration-color: #00d7ff\">None</span>, <span style=\"color: #00af00; text-decoration-color: #00af00\">21</span>, <span style=\"color: #00af00; text-decoration-color: #00af00\">256</span>)             │          <span style=\"color: #00af00; text-decoration-color: #00af00\">51,200</span> │\n",
       "├──────────────────────────────────────┼─────────────────────────────┼─────────────────┤\n",
       "│ bidirectional (<span style=\"color: #0087ff; text-decoration-color: #0087ff\">Bidirectional</span>)        │ (<span style=\"color: #00d7ff; text-decoration-color: #00d7ff\">None</span>, <span style=\"color: #00af00; text-decoration-color: #00af00\">21</span>, <span style=\"color: #00af00; text-decoration-color: #00af00\">512</span>)             │       <span style=\"color: #00af00; text-decoration-color: #00af00\">1,050,624</span> │\n",
       "├──────────────────────────────────────┼─────────────────────────────┼─────────────────┤\n",
       "│ time_distributed (<span style=\"color: #0087ff; text-decoration-color: #0087ff\">TimeDistributed</span>)   │ (<span style=\"color: #00d7ff; text-decoration-color: #00d7ff\">None</span>, <span style=\"color: #00af00; text-decoration-color: #00af00\">21</span>, <span style=\"color: #00af00; text-decoration-color: #00af00\">1024</span>)            │         <span style=\"color: #00af00; text-decoration-color: #00af00\">525,312</span> │\n",
       "├──────────────────────────────────────┼─────────────────────────────┼─────────────────┤\n",
       "│ dropout (<span style=\"color: #0087ff; text-decoration-color: #0087ff\">Dropout</span>)                    │ (<span style=\"color: #00d7ff; text-decoration-color: #00d7ff\">None</span>, <span style=\"color: #00af00; text-decoration-color: #00af00\">21</span>, <span style=\"color: #00af00; text-decoration-color: #00af00\">1024</span>)            │               <span style=\"color: #00af00; text-decoration-color: #00af00\">0</span> │\n",
       "├──────────────────────────────────────┼─────────────────────────────┼─────────────────┤\n",
       "│ time_distributed_1 (<span style=\"color: #0087ff; text-decoration-color: #0087ff\">TimeDistributed</span>) │ (<span style=\"color: #00d7ff; text-decoration-color: #00d7ff\">None</span>, <span style=\"color: #00af00; text-decoration-color: #00af00\">21</span>, <span style=\"color: #00af00; text-decoration-color: #00af00\">345</span>)             │         <span style=\"color: #00af00; text-decoration-color: #00af00\">353,625</span> │\n",
       "└──────────────────────────────────────┴─────────────────────────────┴─────────────────┘\n",
       "</pre>\n"
      ],
      "text/plain": [
       "┏━━━━━━━━━━━━━━━━━━━━━━━━━━━━━━━━━━━━━━┳━━━━━━━━━━━━━━━━━━━━━━━━━━━━━┳━━━━━━━━━━━━━━━━━┓\n",
       "┃\u001b[1m \u001b[0m\u001b[1mLayer (type)                        \u001b[0m\u001b[1m \u001b[0m┃\u001b[1m \u001b[0m\u001b[1mOutput Shape               \u001b[0m\u001b[1m \u001b[0m┃\u001b[1m \u001b[0m\u001b[1m        Param #\u001b[0m\u001b[1m \u001b[0m┃\n",
       "┡━━━━━━━━━━━━━━━━━━━━━━━━━━━━━━━━━━━━━━╇━━━━━━━━━━━━━━━━━━━━━━━━━━━━━╇━━━━━━━━━━━━━━━━━┩\n",
       "│ embedding (\u001b[38;5;33mEmbedding\u001b[0m)                │ (\u001b[38;5;45mNone\u001b[0m, \u001b[38;5;34m21\u001b[0m, \u001b[38;5;34m256\u001b[0m)             │          \u001b[38;5;34m51,200\u001b[0m │\n",
       "├──────────────────────────────────────┼─────────────────────────────┼─────────────────┤\n",
       "│ bidirectional (\u001b[38;5;33mBidirectional\u001b[0m)        │ (\u001b[38;5;45mNone\u001b[0m, \u001b[38;5;34m21\u001b[0m, \u001b[38;5;34m512\u001b[0m)             │       \u001b[38;5;34m1,050,624\u001b[0m │\n",
       "├──────────────────────────────────────┼─────────────────────────────┼─────────────────┤\n",
       "│ time_distributed (\u001b[38;5;33mTimeDistributed\u001b[0m)   │ (\u001b[38;5;45mNone\u001b[0m, \u001b[38;5;34m21\u001b[0m, \u001b[38;5;34m1024\u001b[0m)            │         \u001b[38;5;34m525,312\u001b[0m │\n",
       "├──────────────────────────────────────┼─────────────────────────────┼─────────────────┤\n",
       "│ dropout (\u001b[38;5;33mDropout\u001b[0m)                    │ (\u001b[38;5;45mNone\u001b[0m, \u001b[38;5;34m21\u001b[0m, \u001b[38;5;34m1024\u001b[0m)            │               \u001b[38;5;34m0\u001b[0m │\n",
       "├──────────────────────────────────────┼─────────────────────────────┼─────────────────┤\n",
       "│ time_distributed_1 (\u001b[38;5;33mTimeDistributed\u001b[0m) │ (\u001b[38;5;45mNone\u001b[0m, \u001b[38;5;34m21\u001b[0m, \u001b[38;5;34m345\u001b[0m)             │         \u001b[38;5;34m353,625\u001b[0m │\n",
       "└──────────────────────────────────────┴─────────────────────────────┴─────────────────┘\n"
      ]
     },
     "metadata": {},
     "output_type": "display_data"
    },
    {
     "data": {
      "text/html": [
       "<pre style=\"white-space:pre;overflow-x:auto;line-height:normal;font-family:Menlo,'DejaVu Sans Mono',consolas,'Courier New',monospace\"><span style=\"font-weight: bold\"> Total params: </span><span style=\"color: #00af00; text-decoration-color: #00af00\">1,980,761</span> (7.56 MB)\n",
       "</pre>\n"
      ],
      "text/plain": [
       "\u001b[1m Total params: \u001b[0m\u001b[38;5;34m1,980,761\u001b[0m (7.56 MB)\n"
      ]
     },
     "metadata": {},
     "output_type": "display_data"
    },
    {
     "data": {
      "text/html": [
       "<pre style=\"white-space:pre;overflow-x:auto;line-height:normal;font-family:Menlo,'DejaVu Sans Mono',consolas,'Courier New',monospace\"><span style=\"font-weight: bold\"> Trainable params: </span><span style=\"color: #00af00; text-decoration-color: #00af00\">1,980,761</span> (7.56 MB)\n",
       "</pre>\n"
      ],
      "text/plain": [
       "\u001b[1m Trainable params: \u001b[0m\u001b[38;5;34m1,980,761\u001b[0m (7.56 MB)\n"
      ]
     },
     "metadata": {},
     "output_type": "display_data"
    },
    {
     "data": {
      "text/html": [
       "<pre style=\"white-space:pre;overflow-x:auto;line-height:normal;font-family:Menlo,'DejaVu Sans Mono',consolas,'Courier New',monospace\"><span style=\"font-weight: bold\"> Non-trainable params: </span><span style=\"color: #00af00; text-decoration-color: #00af00\">0</span> (0.00 B)\n",
       "</pre>\n"
      ],
      "text/plain": [
       "\u001b[1m Non-trainable params: \u001b[0m\u001b[38;5;34m0\u001b[0m (0.00 B)\n"
      ]
     },
     "metadata": {},
     "output_type": "display_data"
    },
    {
     "name": "stdout",
     "output_type": "stream",
     "text": [
      "None\n",
      "Epoch 1/10\n",
      "\u001b[1m108/108\u001b[0m \u001b[32m━━━━━━━━━━━━━━━━━━━━\u001b[0m\u001b[37m\u001b[0m \u001b[1m213s\u001b[0m 2s/step - accuracy: 0.5654 - loss: 2.1899 - val_accuracy: 0.8762 - val_loss: 0.4106\n",
      "Epoch 2/10\n",
      "\u001b[1m108/108\u001b[0m \u001b[32m━━━━━━━━━━━━━━━━━━━━\u001b[0m\u001b[37m\u001b[0m \u001b[1m196s\u001b[0m 2s/step - accuracy: 0.8833 - loss: 0.3766 - val_accuracy: 0.9316 - val_loss: 0.2073\n",
      "Epoch 3/10\n",
      "\u001b[1m108/108\u001b[0m \u001b[32m━━━━━━━━━━━━━━━━━━━━\u001b[0m\u001b[37m\u001b[0m \u001b[1m213s\u001b[0m 2s/step - accuracy: 0.9329 - loss: 0.2097 - val_accuracy: 0.9526 - val_loss: 0.1464\n",
      "Epoch 4/10\n",
      "\u001b[1m108/108\u001b[0m \u001b[32m━━━━━━━━━━━━━━━━━━━━\u001b[0m\u001b[37m\u001b[0m \u001b[1m254s\u001b[0m 2s/step - accuracy: 0.9534 - loss: 0.1457 - val_accuracy: 0.9658 - val_loss: 0.1083\n",
      "Epoch 5/10\n",
      "\u001b[1m108/108\u001b[0m \u001b[32m━━━━━━━━━━━━━━━━━━━━\u001b[0m\u001b[37m\u001b[0m \u001b[1m249s\u001b[0m 2s/step - accuracy: 0.9640 - loss: 0.1134 - val_accuracy: 0.9719 - val_loss: 0.0892\n",
      "Epoch 6/10\n",
      "\u001b[1m108/108\u001b[0m \u001b[32m━━━━━━━━━━━━━━━━━━━━\u001b[0m\u001b[37m\u001b[0m \u001b[1m260s\u001b[0m 2s/step - accuracy: 0.9715 - loss: 0.0887 - val_accuracy: 0.9761 - val_loss: 0.0774\n",
      "Epoch 7/10\n",
      "\u001b[1m108/108\u001b[0m \u001b[32m━━━━━━━━━━━━━━━━━━━━\u001b[0m\u001b[37m\u001b[0m \u001b[1m254s\u001b[0m 2s/step - accuracy: 0.9746 - loss: 0.0795 - val_accuracy: 0.9789 - val_loss: 0.0691\n",
      "Epoch 8/10\n",
      "\u001b[1m108/108\u001b[0m \u001b[32m━━━━━━━━━━━━━━━━━━━━\u001b[0m\u001b[37m\u001b[0m \u001b[1m227s\u001b[0m 2s/step - accuracy: 0.9784 - loss: 0.0676 - val_accuracy: 0.9798 - val_loss: 0.0686\n",
      "Epoch 9/10\n",
      "\u001b[1m108/108\u001b[0m \u001b[32m━━━━━━━━━━━━━━━━━━━━\u001b[0m\u001b[37m\u001b[0m \u001b[1m202s\u001b[0m 2s/step - accuracy: 0.9807 - loss: 0.0604 - val_accuracy: 0.9811 - val_loss: 0.0639\n",
      "Epoch 10/10\n",
      "\u001b[1m108/108\u001b[0m \u001b[32m━━━━━━━━━━━━━━━━━━━━\u001b[0m\u001b[37m\u001b[0m \u001b[1m198s\u001b[0m 2s/step - accuracy: 0.9822 - loss: 0.0558 - val_accuracy: 0.9825 - val_loss: 0.0585\n"
     ]
    },
    {
     "data": {
      "text/plain": [
       "<keras.src.callbacks.history.History at 0x25eabece990>"
      ]
     },
     "execution_count": 19,
     "metadata": {},
     "output_type": "execute_result"
    }
   ],
   "source": [
    "# Build the model\n",
    "embed_rnn_model = bidirectional_embed_model(\n",
    "    tmp_x.shape,\n",
    "    max_french_sequence_length,\n",
    "    english_vocab_size,\n",
    "    french_vocab_size)\n",
    "print(embed_rnn_model.summary())\n",
    "embed_rnn_model.fit(tmp_x, preproc_french_sentences, batch_size=1024, epochs=10, validation_split=0.2)"
   ]
  },
  {
   "cell_type": "code",
   "execution_count": 24,
   "id": "5b9162f9-15d1-4a1b-be5a-efb6f5c8c4a6",
   "metadata": {
    "id": "5b9162f9-15d1-4a1b-be5a-efb6f5c8c4a6"
   },
   "outputs": [],
   "source": [
    "def logits_to_text(logits, tokenizer):\n",
    "    index_to_words = {id: word for word, id in tokenizer.word_index.items()}\n",
    "    index_to_words[0] = '<PAD>'\n",
    "\n",
    "    return ' '.join([index_to_words[prediction] for prediction in np.argmax(logits, 1)])"
   ]
  },
  {
   "cell_type": "code",
   "execution_count": 25,
   "id": "5N3BgRr20jLK",
   "metadata": {
    "id": "5N3BgRr20jLK"
   },
   "outputs": [
    {
     "name": "stdout",
     "output_type": "stream",
     "text": [
      "Prediciton:\n",
      "\u001b[1m4/4\u001b[0m \u001b[32m━━━━━━━━━━━━━━━━━━━━\u001b[0m\u001b[37m\u001b[0m \u001b[1m0s\u001b[0m 13ms/step\n",
      "new jersey est parfois calme pendant l automne et il est neigeux en avril <PAD> <PAD> <PAD> <PAD> <PAD> <PAD> <PAD>\n",
      "\n",
      "Correct Translation:\n",
      "[\"new jersey est parfois calme pendant l' automne , et il est neigeux en avril .\"]\n",
      "\n",
      "Original text:\n",
      "['new jersey is sometimes quiet during autumn , and it is snowy in april .']\n"
     ]
    }
   ],
   "source": [
    "# Print prediction(s)\n",
    "print(\"Prediciton:\")\n",
    "print(logits_to_text(embed_rnn_model.predict(tmp_x[:100])[0], french_tokenizer))\n",
    "\n",
    "print(\"\\nCorrect Translation:\")\n",
    "print(french_sentences[:1])\n",
    "\n",
    "print('\\nOriginal text:')\n",
    "print(english_sentences[:1])"
   ]
  },
  {
   "cell_type": "code",
   "execution_count": 26,
   "id": "288263e1-ba63-4913-965c-896bce1374cf",
   "metadata": {
    "id": "288263e1-ba63-4913-965c-896bce1374cf"
   },
   "outputs": [],
   "source": [
    "embed_rnn_model.save('pretrained.keras')"
   ]
  },
  {
   "cell_type": "code",
   "execution_count": 23,
   "id": "60b662ef-2612-4fc1-9e13-e2d0ba67bda1",
   "metadata": {
    "colab": {
     "base_uri": "https://localhost:8080/"
    },
    "id": "60b662ef-2612-4fc1-9e13-e2d0ba67bda1",
    "outputId": "29197ddc-1346-4f3f-b532-9099d8f36e9d"
   },
   "outputs": [
    {
     "name": "stdout",
     "output_type": "stream",
     "text": [
      "[array([[-1.1218866 , -0.23652576, -2.0734694 , ..., -2.282421  ,\n",
      "         0.91584706,  0.16769366],\n",
      "       [ 1.1287884 , -0.8447383 ,  0.20237197, ...,  0.41619843,\n",
      "        -0.04619716, -0.33577126],\n",
      "       [ 0.4399611 ,  0.37385496, -0.17300269, ..., -0.09677164,\n",
      "        -0.43154332, -0.03003852],\n",
      "       ...,\n",
      "       [ 0.02575642, -0.24403514, -0.36345032, ...,  0.04278513,\n",
      "         0.08664688,  0.0902779 ],\n",
      "       [-0.22540173, -0.00858425,  0.00432144, ..., -0.06722135,\n",
      "        -0.21301967,  0.1878747 ],\n",
      "       [-0.03822861, -0.25390726,  0.02841015, ...,  0.21336497,\n",
      "         0.18466514,  0.18843253]], dtype=float32), array([[ 0.16820714, -0.21916549,  0.22639371, ..., -0.00711458,\n",
      "        -0.05878118,  0.04057365],\n",
      "       [-0.14422204, -0.0783029 ,  0.10437075, ..., -0.01230261,\n",
      "         0.02979372, -0.03530535],\n",
      "       [ 0.00612178, -0.0238396 ,  0.09179616, ..., -0.04576714,\n",
      "        -0.01551104, -0.06570072],\n",
      "       ...,\n",
      "       [ 0.11911643,  0.05388101,  0.00492679, ..., -0.09678432,\n",
      "         0.01287866, -0.02553475],\n",
      "       [-0.05069625,  0.06608127, -0.15847954, ..., -0.07410858,\n",
      "         0.01121053,  0.12185478],\n",
      "       [-0.13058397, -0.05645496, -0.18002638, ..., -0.04168306,\n",
      "        -0.16421576,  0.06871488]], dtype=float32), array([[-7.73725063e-02,  8.20020363e-02, -1.79813832e-01, ...,\n",
      "        -4.64015566e-02,  1.05419708e-02,  1.40156761e-01],\n",
      "       [ 2.27084875e-01, -9.96123031e-02,  1.02256946e-01, ...,\n",
      "        -1.63749084e-01, -6.65189419e-03,  2.12649745e-03],\n",
      "       [ 1.57024086e-01,  3.02599490e-01, -2.93901730e-02, ...,\n",
      "        -1.12244740e-01,  2.98311204e-01, -9.25404802e-02],\n",
      "       ...,\n",
      "       [ 5.18984394e-04,  1.01302020e-01,  2.66570836e-01, ...,\n",
      "        -6.47304696e-05,  2.10472606e-02,  2.23551884e-01],\n",
      "       [-2.71270633e-01, -4.51400829e-03, -2.30969638e-01, ...,\n",
      "        -7.37871751e-02, -3.23979855e-02, -1.52964145e-01],\n",
      "       [ 4.11417931e-01,  1.11560054e-01, -2.09958389e-01, ...,\n",
      "        -1.30724162e-02,  1.14774778e-02,  6.92743734e-02]], dtype=float32), array([ 0.0393895 , -0.02430102,  0.18022984, ...,  0.00439415,\n",
      "        0.02973677,  0.04562015], dtype=float32), array([[ 0.0568755 , -0.302711  ,  0.0860496 , ...,  0.00132463,\n",
      "        -0.00253344, -0.00802569],\n",
      "       [ 0.10414924,  0.04351721,  0.14751545, ...,  0.31285322,\n",
      "        -0.07996528, -0.06676858],\n",
      "       [ 0.1930884 , -0.10092138,  0.07113347, ..., -0.00504507,\n",
      "         0.02287729,  0.0266122 ],\n",
      "       ...,\n",
      "       [ 0.00789858,  0.01277737, -0.01380645, ..., -0.01115565,\n",
      "        -0.08292729, -0.04517579],\n",
      "       [-0.38957796, -0.07906363, -0.12252442, ..., -0.10504717,\n",
      "         0.05179154, -0.03295854],\n",
      "       [ 0.10858211,  0.06950563, -0.01757848, ..., -0.088033  ,\n",
      "         0.04601691,  0.14358892]], dtype=float32), array([[-0.10499532, -0.08711474, -0.06096017, ..., -0.08659964,\n",
      "         0.06990156,  0.01818602],\n",
      "       [ 0.04487371,  0.01227942,  0.02919471, ..., -0.0055289 ,\n",
      "        -0.02235394,  0.0323163 ],\n",
      "       [-0.30530247, -0.08148337,  0.09676334, ...,  0.17116447,\n",
      "         0.01506799, -0.06752931],\n",
      "       ...,\n",
      "       [ 0.02794943, -0.04813548,  0.07384563, ..., -0.0271143 ,\n",
      "         0.09070653,  0.1054272 ],\n",
      "       [-0.03791996,  0.15328407,  0.11793395, ..., -0.15131578,\n",
      "         0.01307724, -0.06127756],\n",
      "       [-0.0672633 ,  0.00775338,  0.04148792, ..., -0.03041021,\n",
      "         0.0133172 ,  0.02231922]], dtype=float32), array([-0.03639189,  0.0175641 ,  0.06216882, ..., -0.05473461,\n",
      "        0.00919065, -0.02120349], dtype=float32), array([[ 0.21239363, -0.11556072,  0.05204329, ...,  0.03603176,\n",
      "         0.07145324, -0.23658052],\n",
      "       [-0.09520297,  0.14894398,  0.02187221, ...,  0.02749777,\n",
      "        -0.11038139, -0.04032815],\n",
      "       [-0.07786742, -0.09075762, -0.07053654, ..., -0.00428043,\n",
      "        -0.4851703 ,  0.08666866],\n",
      "       ...,\n",
      "       [ 0.03162584, -0.0280301 ,  0.06148291, ...,  0.01575807,\n",
      "         0.00838551,  0.05282775],\n",
      "       [-0.13190073, -0.02813299,  0.0735839 , ..., -0.05162029,\n",
      "        -0.16722693, -0.07188025],\n",
      "       [-0.06418515,  0.06175682, -0.12360999, ..., -0.00713973,\n",
      "         0.00847837,  0.19955325]], dtype=float32), array([-0.04915901, -0.02765108,  0.00636283, ..., -0.02783654,\n",
      "       -0.05089275, -0.04448345], dtype=float32), array([[ 0.12582867,  0.05708183, -0.13338847, ..., -0.03840718,\n",
      "        -0.03941685, -0.05330183],\n",
      "       [-0.07949127,  0.09588004,  0.05749537, ..., -0.02874629,\n",
      "        -0.09106278, -0.06883869],\n",
      "       [ 0.07579255,  0.06075401,  0.07170645, ..., -0.01922102,\n",
      "         0.15798797,  0.01888324],\n",
      "       ...,\n",
      "       [ 0.05157138, -0.08258498,  0.09060458, ..., -0.08499164,\n",
      "        -0.0234405 , -0.02835718],\n",
      "       [-0.05112282, -0.06948293, -0.02397018, ..., -0.07195382,\n",
      "        -0.0429487 , -0.05297809],\n",
      "       [-0.05218599,  0.09644054, -0.10108445, ...,  0.00899884,\n",
      "        -0.08813307, -0.04044488]], dtype=float32), array([ 0.0289613 ,  0.04151811,  0.0363087 ,  0.03034923,  0.00675328,\n",
      "        0.0386772 ,  0.05334909,  0.0568386 ,  0.01243031, -0.00060397,\n",
      "        0.0468708 ,  0.07749563, -0.02364476,  0.00308818,  0.02322045,\n",
      "        0.01851039,  0.06444366, -0.00938206, -0.04271917,  0.02517349,\n",
      "        0.03711998, -0.0021548 , -0.03634112, -0.01297493,  0.03666657,\n",
      "       -0.02088529,  0.05477881,  0.02761113,  0.08723413,  0.00529741,\n",
      "       -0.00055529,  0.03516321,  0.03627317,  0.02141718,  0.0998272 ,\n",
      "        0.05697474, -0.06979446, -0.00026228,  0.04273504,  0.04737945,\n",
      "       -0.00669612,  0.11408262, -0.06628619,  0.01497831,  0.05166409,\n",
      "       -0.01599096, -0.01458116,  0.00301564,  0.01933287,  0.02405971,\n",
      "       -0.03256802,  0.00795736, -0.02345918,  0.01220473, -0.03801459,\n",
      "        0.00348978, -0.06674558, -0.00894154,  0.01430917, -0.0611781 ,\n",
      "        0.02747149,  0.09868684,  0.06107792,  0.06033032,  0.05334554,\n",
      "        0.10388953, -0.02914756, -0.02471958, -0.05461093, -0.01409342,\n",
      "       -0.09472464, -0.04967504,  0.00545785, -0.13657577, -0.06981088,\n",
      "        0.08361017,  0.05507381, -0.05948828, -0.10232912, -0.00354236,\n",
      "       -0.03455358,  0.0039842 , -0.06137793, -0.13436478, -0.01560042,\n",
      "       -0.00927815, -0.05875794, -0.00842852, -0.08327184, -0.02190023,\n",
      "        0.10700207, -0.04486425, -0.01955854,  0.01982038, -0.05618456,\n",
      "        0.01163988,  0.08845329, -0.04337939,  0.01004225, -0.07202308,\n",
      "        0.05134442, -0.0912433 , -0.12976669, -0.0081378 , -0.15874296,\n",
      "        0.00845491,  0.01429475,  0.02642797, -0.07905108, -0.00570694,\n",
      "        0.00422346, -0.01850818, -0.00451837,  0.00519322,  0.01561054,\n",
      "       -0.02530288, -0.11930734, -0.01792703, -0.04248893, -0.03187944,\n",
      "       -0.02829746, -0.00527901,  0.01542027, -0.12470118, -0.02042709,\n",
      "       -0.03730508, -0.03376061, -0.05664697,  0.00856035, -0.00146192,\n",
      "        0.00031544, -0.04305988, -0.01155257, -0.02703746, -0.02262283,\n",
      "        0.04302539, -0.14495954, -0.07312101, -0.10782584, -0.02980642,\n",
      "       -0.01014139, -0.02260293, -0.05770931, -0.03045388, -0.03512185,\n",
      "        0.00975348, -0.04610201, -0.07490157, -0.05274335, -0.0107647 ,\n",
      "       -0.00484832, -0.0198215 , -0.0089928 , -0.04404398, -0.0023637 ,\n",
      "       -0.03817361, -0.02331233, -0.00341114, -0.09650071, -0.02481674,\n",
      "       -0.01360095,  0.00557693, -0.06653229, -0.04100396, -0.0171056 ,\n",
      "        0.0093545 , -0.02775874,  0.02806731, -0.02134872, -0.03991659,\n",
      "       -0.02648774, -0.01935826, -0.02317889, -0.07670923,  0.00547835,\n",
      "       -0.01598758, -0.04493691, -0.00496036, -0.00315855,  0.00391162,\n",
      "       -0.05083826, -0.02227493, -0.05439366, -0.037677  , -0.02439085,\n",
      "       -0.02609827, -0.01311633, -0.0321228 , -0.02660575, -0.04549149,\n",
      "       -0.02305012, -0.0089898 , -0.03744117, -0.03015497, -0.08335316,\n",
      "       -0.00598598, -0.0273516 , -0.01452318, -0.03892576, -0.02971021,\n",
      "        0.00214474, -0.02512346, -0.02855649, -0.03369411, -0.02450297,\n",
      "       -0.00438993, -0.03507141, -0.02068101, -0.02098546, -0.00949232,\n",
      "       -0.06659555, -0.01290842, -0.0505817 , -0.04229895, -0.02799998,\n",
      "       -0.05274068, -0.03627471, -0.04939876, -0.03032129, -0.03935724,\n",
      "       -0.0492713 , -0.03046311, -0.03884329, -0.05711492, -0.03074447,\n",
      "       -0.02848123, -0.04592991, -0.03182568, -0.02761185, -0.02696454,\n",
      "       -0.0204323 , -0.03692594, -0.03733134, -0.04348118, -0.02459952,\n",
      "       -0.04084506, -0.02145315, -0.03925306, -0.03617737, -0.03507264,\n",
      "       -0.06005704, -0.04970721, -0.05725231, -0.06174572, -0.02626773,\n",
      "       -0.0468793 , -0.04385546, -0.02247241, -0.04811484, -0.01851331,\n",
      "       -0.0307104 , -0.04879729, -0.04850579, -0.03444651, -0.0392046 ,\n",
      "       -0.04575304, -0.0271927 , -0.03233658, -0.04203596, -0.0506082 ,\n",
      "       -0.0490921 , -0.05426311, -0.04170665, -0.02084585, -0.02451708,\n",
      "       -0.04032093, -0.01608359, -0.04185421, -0.05487664, -0.05701708,\n",
      "       -0.03880263, -0.05150577, -0.04809624, -0.03169337, -0.03397249,\n",
      "       -0.03477687, -0.03857515, -0.0256444 , -0.03773469, -0.05488801,\n",
      "       -0.02525978, -0.02565902, -0.03717065, -0.04590347, -0.04471572,\n",
      "       -0.04479795, -0.03014684, -0.03426322, -0.03828168, -0.03846071,\n",
      "       -0.04573397, -0.04861139, -0.04182576, -0.04923501, -0.04398016,\n",
      "       -0.04128905, -0.0449031 , -0.03751171, -0.03589887, -0.03063366,\n",
      "       -0.04940502, -0.05225802, -0.04623256, -0.04620908, -0.04554391,\n",
      "       -0.05192219, -0.05069561, -0.0482174 , -0.04254996, -0.03258286,\n",
      "       -0.04959512, -0.04340814, -0.04801835, -0.05373082, -0.05299848,\n",
      "       -0.05367823, -0.0450925 , -0.04278934, -0.04962052, -0.0448295 ,\n",
      "       -0.04540196, -0.05371659, -0.05056043, -0.0534868 , -0.05409447,\n",
      "       -0.04577013, -0.05492831, -0.0539788 , -0.05046982, -0.04865298,\n",
      "       -0.05316367, -0.05586389, -0.05392673, -0.04875877, -0.04614165,\n",
      "       -0.05412367, -0.05333295, -0.04831001, -0.04827979, -0.04494945,\n",
      "       -0.04945971, -0.0476221 , -0.05319596, -0.04404975, -0.05344483],\n",
      "      dtype=float32)]\n"
     ]
    }
   ],
   "source": [
    "print(embed_rnn_model.get_weights())"
   ]
  },
  {
   "cell_type": "code",
   "execution_count": null,
   "id": "e6de21dd-f5b8-4df3-9b87-a2c51b7ec9c4",
   "metadata": {
    "id": "e6de21dd-f5b8-4df3-9b87-a2c51b7ec9c4"
   },
   "outputs": [],
   "source": []
  },
  {
   "cell_type": "code",
   "execution_count": null,
   "id": "1962330d-38c8-4524-aca5-b7bef57e18d4",
   "metadata": {
    "id": "1962330d-38c8-4524-aca5-b7bef57e18d4"
   },
   "outputs": [],
   "source": []
  },
  {
   "cell_type": "code",
   "execution_count": null,
   "id": "da495380-d7cd-49c5-a63c-d12999738f22",
   "metadata": {
    "id": "da495380-d7cd-49c5-a63c-d12999738f22"
   },
   "outputs": [],
   "source": []
  },
  {
   "cell_type": "code",
   "execution_count": null,
   "id": "02d5cbeb-ddda-4a3d-aac8-2b76d91fa019",
   "metadata": {
    "id": "02d5cbeb-ddda-4a3d-aac8-2b76d91fa019"
   },
   "outputs": [],
   "source": []
  },
  {
   "cell_type": "code",
   "execution_count": null,
   "id": "229aa63e",
   "metadata": {},
   "outputs": [],
   "source": []
  },
  {
   "cell_type": "code",
   "execution_count": null,
   "id": "939400ed",
   "metadata": {},
   "outputs": [],
   "source": []
  }
 ],
 "metadata": {
  "colab": {
   "provenance": []
  },
  "kernelspec": {
   "display_name": "Python 3 (ipykernel)",
   "language": "python",
   "name": "python3"
  },
  "language_info": {
   "codemirror_mode": {
    "name": "ipython",
    "version": 3
   },
   "file_extension": ".py",
   "mimetype": "text/x-python",
   "name": "python",
   "nbconvert_exporter": "python",
   "pygments_lexer": "ipython3",
   "version": "3.12.2"
  }
 },
 "nbformat": 4,
 "nbformat_minor": 5
}
